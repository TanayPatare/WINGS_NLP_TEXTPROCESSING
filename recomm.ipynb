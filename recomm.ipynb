{
 "cells": [
  {
   "cell_type": "code",
   "execution_count": 1,
   "metadata": {},
   "outputs": [
    {
     "name": "stdout",
     "output_type": "stream",
     "text": [
      "Data generation complete.\n"
     ]
    }
   ],
   "source": [
    "import pandas as pd\n",
    "import random\n",
    "import uuid\n",
    "\n",
    "# Sample data to pick from\n",
    "titles = [\"The Cove\", \"Flake\", \"Upside Down\", \"Better Together\", \"Banana Pancakes\", \n",
    "          \"Breakdown\", \"Sitting, Waiting, Wishing\", \"Good People\", \"Do You Remember\", \n",
    "          \"If I Had Eyes\", \"You and Your Heart\"]\n",
    "releases = [\"Thicker Than Water\", \"Brushfire Fairytales\", \"Sing-A-Longs and Lullabies for the Film Curious George\", \n",
    "            \"In Between Dreams\", \"Sleep Through the Static\", \"To the Sea\"]\n",
    "artist_names = [\"Jack Johnson\", \"John Mayer\", \"Norah Jones\", \"Adele\", \"Coldplay\", \"Ed Sheeran\"]\n",
    "years = [2000, 2001, 2005, 2006, 2008, 2010, 2011, 2013, 2015, 2018, 2020]\n",
    "\n",
    "# Generate data\n",
    "data = []\n",
    "for i in range(10000):\n",
    "    user_id = i\n",
    "    song_id = uuid.uuid4().hex\n",
    "    listen_count = random.randint(1, 20)\n",
    "    title = random.choice(titles)\n",
    "    release = random.choice(releases)\n",
    "    artist_name = random.choice(artist_names)\n",
    "    year = random.choice(years)\n",
    "    data.append([user_id, song_id, listen_count, title, release, artist_name, year])\n",
    "\n",
    "# Create DataFrame\n",
    "df = pd.DataFrame(data, columns=[\"user_id\", \"song_id\", \"listen_count\", \"title\", \"release\", \"artist_name\", \"year\"])\n",
    "\n",
    "# Save to CSV\n",
    "df.to_csv(\"music_data.csv\", index=False)\n",
    "\n",
    "print(\"Data generation complete.\")\n"
   ]
  },
  {
   "cell_type": "code",
   "execution_count": 2,
   "metadata": {},
   "outputs": [],
   "source": [
    "import pandas as pd\n",
    "import random\n",
    "import uuid\n",
    "from sklearn.neighbors import NearestNeighbors\n",
    "import numpy as np\n",
    "from collections import defaultdict"
   ]
  },
  {
   "cell_type": "code",
   "execution_count": 9,
   "metadata": {},
   "outputs": [],
   "source": [
    "music_data = pd.read_csv('train.csv')\n",
    "recommendation_users = pd.read_csv('recommendations.csv',names = ['user_id'],header = None)"
   ]
  },
  {
   "cell_type": "code",
   "execution_count": 10,
   "metadata": {},
   "outputs": [],
   "source": [
    "unique_users = music_data['user_id'].unique()\n",
    "recommendation_users = random.sample(list(unique_users), 200)\n",
    "df_recommendations = pd.DataFrame(recommendation_users, columns=[\"user_id\"])\n",
    "df_recommendations.to_csv(\"recommendations.csv\", index=False)"
   ]
  },
  {
   "cell_type": "code",
   "execution_count": 11,
   "metadata": {},
   "outputs": [],
   "source": [
    "user_song_matrix = music_data.pivot(index='user_id', columns='song_id', values='listen_count').fillna(0)"
   ]
  },
  {
   "cell_type": "code",
   "execution_count": 12,
   "metadata": {},
   "outputs": [
    {
     "ename": "KeyError",
     "evalue": "'user_id'",
     "output_type": "error",
     "traceback": [
      "\u001b[1;31m---------------------------------------------------------------------------\u001b[0m",
      "\u001b[1;31mKeyError\u001b[0m                                  Traceback (most recent call last)",
      "File \u001b[1;32mc:\\Users\\BusinessComputers.in\\AppData\\Local\\Programs\\Python\\Python312\\Lib\\site-packages\\pandas\\core\\indexes\\base.py:3805\u001b[0m, in \u001b[0;36mIndex.get_loc\u001b[1;34m(self, key)\u001b[0m\n\u001b[0;32m   3804\u001b[0m \u001b[38;5;28;01mtry\u001b[39;00m:\n\u001b[1;32m-> 3805\u001b[0m     \u001b[38;5;28;01mreturn\u001b[39;00m \u001b[38;5;28;43mself\u001b[39;49m\u001b[38;5;241;43m.\u001b[39;49m\u001b[43m_engine\u001b[49m\u001b[38;5;241;43m.\u001b[39;49m\u001b[43mget_loc\u001b[49m\u001b[43m(\u001b[49m\u001b[43mcasted_key\u001b[49m\u001b[43m)\u001b[49m\n\u001b[0;32m   3806\u001b[0m \u001b[38;5;28;01mexcept\u001b[39;00m \u001b[38;5;167;01mKeyError\u001b[39;00m \u001b[38;5;28;01mas\u001b[39;00m err:\n",
      "File \u001b[1;32mindex.pyx:167\u001b[0m, in \u001b[0;36mpandas._libs.index.IndexEngine.get_loc\u001b[1;34m()\u001b[0m\n",
      "File \u001b[1;32mindex.pyx:175\u001b[0m, in \u001b[0;36mpandas._libs.index.IndexEngine.get_loc\u001b[1;34m()\u001b[0m\n",
      "File \u001b[1;32mpandas\\\\_libs\\\\index_class_helper.pxi:70\u001b[0m, in \u001b[0;36mpandas._libs.index.Int64Engine._check_type\u001b[1;34m()\u001b[0m\n",
      "\u001b[1;31mKeyError\u001b[0m: 'user_id'",
      "\nThe above exception was the direct cause of the following exception:\n",
      "\u001b[1;31mKeyError\u001b[0m                                  Traceback (most recent call last)",
      "Cell \u001b[1;32mIn[12], line 14\u001b[0m\n\u001b[0;32m     11\u001b[0m \u001b[38;5;66;03m# Generate recommendations for each user in the recommendations.csv\u001b[39;00m\n\u001b[0;32m     12\u001b[0m \u001b[38;5;28;01mfor\u001b[39;00m user_id \u001b[38;5;129;01min\u001b[39;00m recommendation_users[\u001b[38;5;124m'\u001b[39m\u001b[38;5;124muser_id\u001b[39m\u001b[38;5;124m'\u001b[39m]:\n\u001b[0;32m     13\u001b[0m     \u001b[38;5;66;03m# Get the index of the user in the matrix\u001b[39;00m\n\u001b[1;32m---> 14\u001b[0m     user_index \u001b[38;5;241m=\u001b[39m \u001b[43muser_song_matrix\u001b[49m\u001b[38;5;241;43m.\u001b[39;49m\u001b[43mindex\u001b[49m\u001b[38;5;241;43m.\u001b[39;49m\u001b[43mget_loc\u001b[49m\u001b[43m(\u001b[49m\u001b[43muser_id\u001b[49m\u001b[43m)\u001b[49m\n\u001b[0;32m     16\u001b[0m     \u001b[38;5;66;03m# Find the K nearest neighbors\u001b[39;00m\n\u001b[0;32m     17\u001b[0m     distances, indices \u001b[38;5;241m=\u001b[39m knn\u001b[38;5;241m.\u001b[39mkneighbors(user_song_matrix\u001b[38;5;241m.\u001b[39miloc[user_index, :]\u001b[38;5;241m.\u001b[39mvalues\u001b[38;5;241m.\u001b[39mreshape(\u001b[38;5;241m1\u001b[39m, \u001b[38;5;241m-\u001b[39m\u001b[38;5;241m1\u001b[39m), n_neighbors\u001b[38;5;241m=\u001b[39m\u001b[38;5;241m11\u001b[39m)\n",
      "File \u001b[1;32mc:\\Users\\BusinessComputers.in\\AppData\\Local\\Programs\\Python\\Python312\\Lib\\site-packages\\pandas\\core\\indexes\\base.py:3812\u001b[0m, in \u001b[0;36mIndex.get_loc\u001b[1;34m(self, key)\u001b[0m\n\u001b[0;32m   3807\u001b[0m     \u001b[38;5;28;01mif\u001b[39;00m \u001b[38;5;28misinstance\u001b[39m(casted_key, \u001b[38;5;28mslice\u001b[39m) \u001b[38;5;129;01mor\u001b[39;00m (\n\u001b[0;32m   3808\u001b[0m         \u001b[38;5;28misinstance\u001b[39m(casted_key, abc\u001b[38;5;241m.\u001b[39mIterable)\n\u001b[0;32m   3809\u001b[0m         \u001b[38;5;129;01mand\u001b[39;00m \u001b[38;5;28many\u001b[39m(\u001b[38;5;28misinstance\u001b[39m(x, \u001b[38;5;28mslice\u001b[39m) \u001b[38;5;28;01mfor\u001b[39;00m x \u001b[38;5;129;01min\u001b[39;00m casted_key)\n\u001b[0;32m   3810\u001b[0m     ):\n\u001b[0;32m   3811\u001b[0m         \u001b[38;5;28;01mraise\u001b[39;00m InvalidIndexError(key)\n\u001b[1;32m-> 3812\u001b[0m     \u001b[38;5;28;01mraise\u001b[39;00m \u001b[38;5;167;01mKeyError\u001b[39;00m(key) \u001b[38;5;28;01mfrom\u001b[39;00m \u001b[38;5;21;01merr\u001b[39;00m\n\u001b[0;32m   3813\u001b[0m \u001b[38;5;28;01mexcept\u001b[39;00m \u001b[38;5;167;01mTypeError\u001b[39;00m:\n\u001b[0;32m   3814\u001b[0m     \u001b[38;5;66;03m# If we have a listlike key, _check_indexing_error will raise\u001b[39;00m\n\u001b[0;32m   3815\u001b[0m     \u001b[38;5;66;03m#  InvalidIndexError. Otherwise we fall through and re-raise\u001b[39;00m\n\u001b[0;32m   3816\u001b[0m     \u001b[38;5;66;03m#  the TypeError.\u001b[39;00m\n\u001b[0;32m   3817\u001b[0m     \u001b[38;5;28mself\u001b[39m\u001b[38;5;241m.\u001b[39m_check_indexing_error(key)\n",
      "\u001b[1;31mKeyError\u001b[0m: 'user_id'"
     ]
    }
   ],
   "source": [
    "recommendation_users = pd.read_csv('recommendations.csv',names = ['user_id'],header = None)\n",
    "user_song_matrix = music_data.pivot(index='user_id', columns='song_id', values='listen_count').fillna(0)\n",
    "\n",
    "# Fit the KNN model\n",
    "knn = NearestNeighbors(metric='cosine', algorithm='brute')\n",
    "knn.fit(user_song_matrix)\n",
    "\n",
    "# Create a dictionary to store recommendations\n",
    "recommendations = defaultdict(list)\n",
    "\n",
    "# Generate recommendations for each user in the recommendations.csv\n",
    "for user_id in recommendation_users['user_id']:\n",
    "    # Get the index of the user in the matrix\n",
    "    user_index = user_song_matrix.index.get_loc(user_id)\n",
    "    \n",
    "    # Find the K nearest neighbors\n",
    "    distances, indices = knn.kneighbors(user_song_matrix.iloc[user_index, :].values.reshape(1, -1), n_neighbors=11)\n",
    "    \n",
    "    # Get the list of neighbor indices (excluding the first one as it is the user itself)\n",
    "    neighbor_indices = indices.flatten()[1:]\n",
    "    \n",
    "    # Get the list of songs the user has already listened to\n",
    "    listened_songs = set(music_data[music_data['user_id'] == user_id]['song_id'])\n",
    "    \n",
    "    # Aggregate the songs listened by the neighbors\n",
    "    recommended_songs = defaultdict(float)\n",
    "    for neighbor_index in neighbor_indices:\n",
    "        neighbor_id = user_song_matrix.index[neighbor_index]\n",
    "        neighbor_songs = music_data[music_data['user_id'] == neighbor_id]\n",
    "        for _, row in neighbor_songs.iterrows():\n",
    "            if row['song_id'] not in listened_songs:\n",
    "                recommended_songs[row['song_id']] += row['listen_count']\n",
    "    \n",
    "    # Get top 10 recommendations\n",
    "    top_10_songs = sorted(recommended_songs, key=recommended_songs.get, reverse=True)[:10]\n",
    "    \n",
    "    # Add recommendations to the dictionary\n",
    "    recommendations[user_id] = top_10_songs\n",
    "x = pd.DataFrame(columns = [\"Col1\",\"Col2\",\"Col3\",\"Col4\",\"Col5\",\"Col6\",\"Col7\",\"Col8\",\"Col9\",\"Col10\",\"Col11\"] ).to_csv('recommendations_output.csv',index=False)\n",
    "                            \n",
    "# Save recommendations to CSV\n",
    "with open('recommendations.csv', 'w') as f:\n",
    "    for user_id, song_ids in recommendations.items():\n",
    "        f.write(f\"{user_id},\" + \",\".join(song_ids) + \"\\n\")\n",
    "\n"
   ]
  },
  {
   "cell_type": "code",
   "execution_count": null,
   "metadata": {},
   "outputs": [],
   "source": []
  }
 ],
 "metadata": {
  "kernelspec": {
   "display_name": "Python 3",
   "language": "python",
   "name": "python3"
  },
  "language_info": {
   "codemirror_mode": {
    "name": "ipython",
    "version": 3
   },
   "file_extension": ".py",
   "mimetype": "text/x-python",
   "name": "python",
   "nbconvert_exporter": "python",
   "pygments_lexer": "ipython3",
   "version": "3.12.2"
  }
 },
 "nbformat": 4,
 "nbformat_minor": 2
}
