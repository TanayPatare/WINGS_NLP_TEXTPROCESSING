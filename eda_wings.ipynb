{
 "cells": [
  {
   "cell_type": "code",
   "execution_count": null,
   "metadata": {},
   "outputs": [],
   "source": []
  },
  {
   "cell_type": "code",
   "execution_count": 1,
   "metadata": {},
   "outputs": [],
   "source": [
    "import numpy as np\n",
    "import pandas as pd\n",
    "import scipy.stats as st\n",
    "import math"
   ]
  },
  {
   "cell_type": "code",
   "execution_count": 2,
   "metadata": {},
   "outputs": [
    {
     "data": {
      "text/html": [
       "<div>\n",
       "<style scoped>\n",
       "    .dataframe tbody tr th:only-of-type {\n",
       "        vertical-align: middle;\n",
       "    }\n",
       "\n",
       "    .dataframe tbody tr th {\n",
       "        vertical-align: top;\n",
       "    }\n",
       "\n",
       "    .dataframe thead th {\n",
       "        text-align: right;\n",
       "    }\n",
       "</style>\n",
       "<table border=\"1\" class=\"dataframe\">\n",
       "  <thead>\n",
       "    <tr style=\"text-align: right;\">\n",
       "      <th></th>\n",
       "      <th>Day</th>\n",
       "      <th>Average temperature (°F)</th>\n",
       "      <th>Average humidity (%)</th>\n",
       "      <th>Average dewpoint (°F)</th>\n",
       "      <th>Average barometer (in)</th>\n",
       "      <th>Average windspeed (mph)</th>\n",
       "      <th>Average gustspeed (mph)</th>\n",
       "      <th>Average direction (°deg)</th>\n",
       "      <th>Rainfall for month (in)</th>\n",
       "      <th>Rainfall for year (in)</th>\n",
       "      <th>Maximum rain per minute</th>\n",
       "      <th>Maximum temperature (°F)</th>\n",
       "      <th>Minimum temperature (°F)</th>\n",
       "      <th>Maximum humidity (%)</th>\n",
       "      <th>Minimum humidity (%)</th>\n",
       "      <th>Maximum pressure</th>\n",
       "      <th>Minimum pressure</th>\n",
       "      <th>Maximum windspeed (mph)</th>\n",
       "      <th>Maximum gust speed (mph)</th>\n",
       "      <th>Maximum heat index (°F)</th>\n",
       "    </tr>\n",
       "  </thead>\n",
       "  <tbody>\n",
       "    <tr>\n",
       "      <th>0</th>\n",
       "      <td>1/01/2009</td>\n",
       "      <td>37.8</td>\n",
       "      <td>35</td>\n",
       "      <td>12.7</td>\n",
       "      <td>29.7</td>\n",
       "      <td>26.4</td>\n",
       "      <td>36.8</td>\n",
       "      <td>274</td>\n",
       "      <td>0.0</td>\n",
       "      <td>0.0</td>\n",
       "      <td>0.0</td>\n",
       "      <td>40.1</td>\n",
       "      <td>34.5</td>\n",
       "      <td>44</td>\n",
       "      <td>27</td>\n",
       "      <td>29.762</td>\n",
       "      <td>29.596</td>\n",
       "      <td>41.4</td>\n",
       "      <td>59.0</td>\n",
       "      <td>40.1</td>\n",
       "    </tr>\n",
       "    <tr>\n",
       "      <th>1</th>\n",
       "      <td>2/01/2009</td>\n",
       "      <td>43.2</td>\n",
       "      <td>32</td>\n",
       "      <td>14.7</td>\n",
       "      <td>29.5</td>\n",
       "      <td>12.8</td>\n",
       "      <td>18.0</td>\n",
       "      <td>240</td>\n",
       "      <td>0.0</td>\n",
       "      <td>0.0</td>\n",
       "      <td>0.0</td>\n",
       "      <td>52.8</td>\n",
       "      <td>37.5</td>\n",
       "      <td>43</td>\n",
       "      <td>16</td>\n",
       "      <td>29.669</td>\n",
       "      <td>29.268</td>\n",
       "      <td>35.7</td>\n",
       "      <td>51.0</td>\n",
       "      <td>52.8</td>\n",
       "    </tr>\n",
       "    <tr>\n",
       "      <th>2</th>\n",
       "      <td>3/01/2009</td>\n",
       "      <td>25.7</td>\n",
       "      <td>60</td>\n",
       "      <td>12.7</td>\n",
       "      <td>29.7</td>\n",
       "      <td>8.3</td>\n",
       "      <td>12.2</td>\n",
       "      <td>290</td>\n",
       "      <td>0.0</td>\n",
       "      <td>0.0</td>\n",
       "      <td>0.0</td>\n",
       "      <td>41.2</td>\n",
       "      <td>6.7</td>\n",
       "      <td>89</td>\n",
       "      <td>35</td>\n",
       "      <td>30.232</td>\n",
       "      <td>29.260</td>\n",
       "      <td>25.3</td>\n",
       "      <td>38.0</td>\n",
       "      <td>41.2</td>\n",
       "    </tr>\n",
       "    <tr>\n",
       "      <th>3</th>\n",
       "      <td>4/01/2009</td>\n",
       "      <td>9.3</td>\n",
       "      <td>67</td>\n",
       "      <td>0.1</td>\n",
       "      <td>30.4</td>\n",
       "      <td>2.9</td>\n",
       "      <td>4.5</td>\n",
       "      <td>47</td>\n",
       "      <td>0.0</td>\n",
       "      <td>0.0</td>\n",
       "      <td>0.0</td>\n",
       "      <td>19.4</td>\n",
       "      <td>-0.0</td>\n",
       "      <td>79</td>\n",
       "      <td>35</td>\n",
       "      <td>30.566</td>\n",
       "      <td>30.227</td>\n",
       "      <td>12.7</td>\n",
       "      <td>20.0</td>\n",
       "      <td>32.0</td>\n",
       "    </tr>\n",
       "    <tr>\n",
       "      <th>4</th>\n",
       "      <td>5/01/2009</td>\n",
       "      <td>23.5</td>\n",
       "      <td>30</td>\n",
       "      <td>-5.3</td>\n",
       "      <td>29.9</td>\n",
       "      <td>16.7</td>\n",
       "      <td>23.1</td>\n",
       "      <td>265</td>\n",
       "      <td>0.0</td>\n",
       "      <td>0.0</td>\n",
       "      <td>0.0</td>\n",
       "      <td>30.3</td>\n",
       "      <td>15.1</td>\n",
       "      <td>56</td>\n",
       "      <td>13</td>\n",
       "      <td>30.233</td>\n",
       "      <td>29.568</td>\n",
       "      <td>38.0</td>\n",
       "      <td>53.0</td>\n",
       "      <td>32.0</td>\n",
       "    </tr>\n",
       "  </tbody>\n",
       "</table>\n",
       "</div>"
      ],
      "text/plain": [
       "         Day  Average temperature (°F)  Average humidity (%)  \\\n",
       "0  1/01/2009                      37.8                    35   \n",
       "1  2/01/2009                      43.2                    32   \n",
       "2  3/01/2009                      25.7                    60   \n",
       "3  4/01/2009                       9.3                    67   \n",
       "4  5/01/2009                      23.5                    30   \n",
       "\n",
       "   Average dewpoint (°F)  Average barometer (in)  Average windspeed (mph)  \\\n",
       "0                   12.7                    29.7                     26.4   \n",
       "1                   14.7                    29.5                     12.8   \n",
       "2                   12.7                    29.7                      8.3   \n",
       "3                    0.1                    30.4                      2.9   \n",
       "4                   -5.3                    29.9                     16.7   \n",
       "\n",
       "   Average gustspeed (mph)  Average direction (°deg)  Rainfall for month (in)  \\\n",
       "0                     36.8                       274                      0.0   \n",
       "1                     18.0                       240                      0.0   \n",
       "2                     12.2                       290                      0.0   \n",
       "3                      4.5                        47                      0.0   \n",
       "4                     23.1                       265                      0.0   \n",
       "\n",
       "   Rainfall for year (in)  Maximum rain per minute   Maximum temperature (°F)  \\\n",
       "0                     0.0                       0.0                      40.1   \n",
       "1                     0.0                       0.0                      52.8   \n",
       "2                     0.0                       0.0                      41.2   \n",
       "3                     0.0                       0.0                      19.4   \n",
       "4                     0.0                       0.0                      30.3   \n",
       "\n",
       "   Minimum temperature (°F)  Maximum humidity (%)  Minimum humidity (%)  \\\n",
       "0                      34.5                    44                    27   \n",
       "1                      37.5                    43                    16   \n",
       "2                       6.7                    89                    35   \n",
       "3                      -0.0                    79                    35   \n",
       "4                      15.1                    56                    13   \n",
       "\n",
       "   Maximum pressure   Minimum pressure   Maximum windspeed (mph)  \\\n",
       "0             29.762             29.596                     41.4   \n",
       "1             29.669             29.268                     35.7   \n",
       "2             30.232             29.260                     25.3   \n",
       "3             30.566             30.227                     12.7   \n",
       "4             30.233             29.568                     38.0   \n",
       "\n",
       "   Maximum gust speed (mph)  Maximum heat index (°F)  \n",
       "0                      59.0                     40.1  \n",
       "1                      51.0                     52.8  \n",
       "2                      38.0                     41.2  \n",
       "3                      20.0                     32.0  \n",
       "4                      53.0                     32.0  "
      ]
     },
     "execution_count": 2,
     "metadata": {},
     "output_type": "execute_result"
    }
   ],
   "source": [
    "data = pd.read_csv('data.csv')\n",
    "data.head()"
   ]
  },
  {
   "cell_type": "code",
   "execution_count": 3,
   "metadata": {},
   "outputs": [
    {
     "data": {
      "text/plain": [
       "Index(['Day', 'Average temperature (°F)', 'Average humidity (%)',\n",
       "       'Average dewpoint (°F)', 'Average barometer (in)',\n",
       "       'Average windspeed (mph)', 'Average gustspeed (mph)',\n",
       "       'Average direction (°deg)', 'Rainfall for month (in)',\n",
       "       'Rainfall for year (in)', 'Maximum rain per minute ',\n",
       "       'Maximum temperature (°F)', 'Minimum temperature (°F)',\n",
       "       'Maximum humidity (%)', 'Minimum humidity (%)', 'Maximum pressure ',\n",
       "       'Minimum pressure ', 'Maximum windspeed (mph)',\n",
       "       'Maximum gust speed (mph)', 'Maximum heat index (°F)'],\n",
       "      dtype='object')"
      ]
     },
     "execution_count": 3,
     "metadata": {},
     "output_type": "execute_result"
    }
   ],
   "source": [
    "data.columns"
   ]
  },
  {
   "cell_type": "markdown",
   "metadata": {},
   "source": [
    "Standard -Deviation for all days for wind_speed"
   ]
  },
  {
   "cell_type": "code",
   "execution_count": 4,
   "metadata": {},
   "outputs": [
    {
     "data": {
      "text/plain": [
       "13.06"
      ]
     },
     "execution_count": 4,
     "metadata": {},
     "output_type": "execute_result"
    }
   ],
   "source": [
    "std = round(np.std(data['Maximum windspeed (mph)']),2)\n",
    "std"
   ]
  },
  {
   "cell_type": "markdown",
   "metadata": {},
   "source": [
    "diff b/w 50th and 75 th percentile of avg temp"
   ]
  },
  {
   "cell_type": "code",
   "execution_count": 21,
   "metadata": {},
   "outputs": [
    {
     "name": "stdout",
     "output_type": "stream",
     "text": [
      "10.1\n"
     ]
    }
   ],
   "source": [
    "def round_down(n, decimal=0):\n",
    "    multiplier = 10 ** decimal\n",
    "    return math.floor(n * multiplier) / multiplier\n",
    "print(round_down(10.10,2))"
   ]
  },
  {
   "cell_type": "code",
   "execution_count": 20,
   "metadata": {},
   "outputs": [
    {
     "ename": "NameError",
     "evalue": "name 'truncate' is not defined",
     "output_type": "error",
     "traceback": [
      "\u001b[1;31m---------------------------------------------------------------------------\u001b[0m",
      "\u001b[1;31mNameError\u001b[0m                                 Traceback (most recent call last)",
      "Cell \u001b[1;32mIn[20], line 3\u001b[0m\n\u001b[0;32m      1\u001b[0m per_50 \u001b[38;5;241m=\u001b[39m np\u001b[38;5;241m.\u001b[39mpercentile(data[\u001b[38;5;124m'\u001b[39m\u001b[38;5;124mAverage temperature (°F)\u001b[39m\u001b[38;5;124m'\u001b[39m],\u001b[38;5;241m50\u001b[39m)\n\u001b[0;32m      2\u001b[0m per_70 \u001b[38;5;241m=\u001b[39m np\u001b[38;5;241m.\u001b[39mpercentile(data[\u001b[38;5;124m'\u001b[39m\u001b[38;5;124mAverage temperature (°F)\u001b[39m\u001b[38;5;124m'\u001b[39m],\u001b[38;5;241m75\u001b[39m)\n\u001b[1;32m----> 3\u001b[0m per_75_50 \u001b[38;5;241m=\u001b[39m \u001b[43mtruncate\u001b[49m((per_70 \u001b[38;5;241m-\u001b[39m per_50),\u001b[38;5;241m2\u001b[39m)\n\u001b[0;32m      4\u001b[0m per_75_50\n",
      "\u001b[1;31mNameError\u001b[0m: name 'truncate' is not defined"
     ]
    }
   ],
   "source": [
    "per_50 = np.percentile(data['Average temperature (°F)'],50)\n",
    "per_70 = np.percentile(data['Average temperature (°F)'],75)\n",
    "per_75_50 = round_down((per_70 - per_50),2)\n",
    "per_75_50"
   ]
  },
  {
   "cell_type": "markdown",
   "metadata": {},
   "source": [
    "find out pearson's correlation b/w avg dew point and avg temp"
   ]
  },
  {
   "cell_type": "code",
   "execution_count": 6,
   "metadata": {},
   "outputs": [
    {
     "data": {
      "text/plain": [
       "0.76"
      ]
     },
     "execution_count": 6,
     "metadata": {},
     "output_type": "execute_result"
    }
   ],
   "source": [
    "p_corr = st.pearsonr(data['Average dewpoint (°F)'],data['Average temperature (°F)'])\n",
    "p_corr = round(p_corr[0] - p_corr[1],2)\n",
    "p_corr"
   ]
  },
  {
   "cell_type": "markdown",
   "metadata": {},
   "source": [
    "Out of all the available records which month has the lowest average humidity"
   ]
  },
  {
   "cell_type": "code",
   "execution_count": 7,
   "metadata": {},
   "outputs": [
    {
     "data": {
      "text/plain": [
       "1"
      ]
     },
     "execution_count": 7,
     "metadata": {},
     "output_type": "execute_result"
    }
   ],
   "source": [
    "from datetime import datetime\n",
    "need_data = data[data['Average humidity (%)'] == data['Average humidity (%)'].min()]\n",
    "date = int(str(list(need_data['Day'].head(1))[0])[3:5])\n",
    "date"
   ]
  },
  {
   "cell_type": "markdown",
   "metadata": {},
   "source": [
    "Which month has the highest median for maximum_gust_speed out of all the available records."
   ]
  },
  {
   "cell_type": "code",
   "execution_count": 8,
   "metadata": {},
   "outputs": [
    {
     "data": {
      "text/plain": [
       "34.5"
      ]
     },
     "execution_count": 8,
     "metadata": {},
     "output_type": "execute_result"
    }
   ],
   "source": [
    "data['Date'] = pd.to_datetime(data[\"Day\"],format = \"%d/%m/%Y\")\n",
    "data['Month'] = data['Date'].dt.month\n",
    "gust_month = data.groupby([\"Month\"])\n",
    "gust_month_median =gust_month['Maximum gust speed (mph)'].median()\n",
    "gust_month_median_max = round(gust_month_median.max(),2)\n",
    "gust_month_median_max"
   ]
  },
  {
   "cell_type": "markdown",
   "metadata": {},
   "source": [
    "Determine the average temperature between the months of March 2010 to May 2012 (including both the months)"
   ]
  },
  {
   "cell_type": "code",
   "execution_count": 9,
   "metadata": {},
   "outputs": [
    {
     "data": {
      "text/plain": [
       "45.33"
      ]
     },
     "execution_count": 9,
     "metadata": {},
     "output_type": "execute_result"
    }
   ],
   "source": [
    "data[\"year\"] = data[\"Date\"].dt.year\n",
    "data1 = data[(data['Date'] >= '2010-03-01') & (data['Date'] <= '2012-05-31')]\n",
    "avg_temp = round(data1[\"Average temperature (°F)\"].mean(),2)\n",
    "avg_temp"
   ]
  },
  {
   "cell_type": "markdown",
   "metadata": {},
   "source": [
    "Find the range of average temperature on Dec 2010"
   ]
  },
  {
   "cell_type": "code",
   "execution_count": 10,
   "metadata": {},
   "outputs": [
    {
     "data": {
      "text/plain": [
       "44.8"
      ]
     },
     "execution_count": 10,
     "metadata": {},
     "output_type": "execute_result"
    }
   ],
   "source": [
    "data2 = data[(data[\"Date\"] >= '2010-12-01')&(data[\"Date\"] <= '2010-12-31')]\n",
    "avg_temp_dec_max = data2['Average temperature (°F)'].max()\n",
    "avg_temp_dec_min = data2['Average temperature (°F)'].min()\n",
    "avg_temp_dec = avg_temp_dec_max - avg_temp_dec_min\n",
    "avg_temp_dec"
   ]
  },
  {
   "cell_type": "markdown",
   "metadata": {},
   "source": [
    "Out of all available records which day has the highest difference between maximum_pressure and minimum_pressure"
   ]
  },
  {
   "cell_type": "code",
   "execution_count": 11,
   "metadata": {},
   "outputs": [
    {
     "data": {
      "text/plain": [
       "'2018-03-23'"
      ]
     },
     "execution_count": 11,
     "metadata": {},
     "output_type": "execute_result"
    }
   ],
   "source": [
    "data['press_diff'] = data['Maximum pressure ']-data['Minimum pressure ']\n",
    "x = data[data['press_diff'] == data['press_diff'].max()]\n",
    "str(list(x['Date'])[0])[:10]"
   ]
  },
  {
   "cell_type": "markdown",
   "metadata": {},
   "source": [
    "How many days falls under median (i.e equal to median value) of barometer reading"
   ]
  },
  {
   "cell_type": "code",
   "execution_count": 12,
   "metadata": {},
   "outputs": [
    {
     "data": {
      "text/plain": [
       "534"
      ]
     },
     "execution_count": 12,
     "metadata": {},
     "output_type": "execute_result"
    }
   ],
   "source": [
    "baro_median = data[\"Average barometer (in)\"].median()\n",
    "no_days = (data[data[\"Average barometer (in)\"] == baro_median].shape)[0]\n",
    "no_days"
   ]
  },
  {
   "cell_type": "markdown",
   "metadata": {},
   "source": [
    "Out of all the available records how many days are within one standard deviation of average temperature"
   ]
  },
  {
   "cell_type": "code",
   "execution_count": 13,
   "metadata": {},
   "outputs": [
    {
     "data": {
      "text/plain": [
       "2092"
      ]
     },
     "execution_count": 13,
     "metadata": {},
     "output_type": "execute_result"
    }
   ],
   "source": [
    "std1 = round(np.std(data['Average temperature (°F)']),2)\n",
    "mean = data['Average temperature (°F)'].mean()\n",
    "res = (data[(data['Average temperature (°F)'] >= mean-std1) & (data['Average temperature (°F)']<= mean+std1)].shape)[0]\n",
    "res\n"
   ]
  },
  {
   "cell_type": "code",
   "execution_count": null,
   "metadata": {},
   "outputs": [],
   "source": []
  },
  {
   "cell_type": "code",
   "execution_count": null,
   "metadata": {},
   "outputs": [],
   "source": [
    "ws_std = np.std(data['Maximum windspeed (mph)'])\n",
    "ws_std = float(format(ws_std,\".2f\"))\n",
    "ws_std\n",
    "\n",
    "p_range = float((format(data['Average temperature (°F)'].quantile(0.75) - data['Average temperature (°F)'].quantile(0.50),\".2f\")))\n",
    "# p_range = format(p_range,'.2f')\n",
    "p_range\n",
    "\n",
    "import scipy.stats as st\n",
    "corr_list = st.pearsonr(data['Average dewpoint (°F)'],data['Average temperature (°F)'])\n",
    "corr = round(corr_list[0]-corr_list[1],2)\n",
    "corr\n",
    "\n",
    "from datetime import datetime as dt\n",
    "data[\"date\"] = pd.to_datetime(data['Day'],format = \"%d/%m/%Y\")\n",
    "data['month'] = data['date'].dt.month\n",
    "data1 = data[data[\"Average humidity (%)\"] == data[\"Average humidity (%)\"].min()]\n",
    "dew_month = list(data1[\"month\"])[0]\n",
    "dew_month\n",
    "\n",
    "data1 = data.groupby([\"month\"])\n",
    "data1 = data1[\"Maximum gust speed (mph)\"].median()\n",
    "x = list(data1)\n",
    "max_gust_month = x.index(data1.max())+1\n",
    "max_gust_value = round(data1.max(),2)\n",
    "print(max_gust_month)\n",
    "print(max_gust_value)\n",
    "\n",
    "data1 = data[(data[\"date\"] >= \"2010-03-01\") & (data[\"date\"] <= \"2012-05-31\")]\n",
    "avg_temp = round(data1[\"Average temperature (°F)\"].mean(),2)\n",
    "avg_temp\n",
    "\n",
    "data1 = data[(data[\"date\"] >= \"2010-12-01\") & (data[\"date\"] <= \"2010-12-31\")]\n",
    "temp_max = data1[\"Average temperature (°F)\"].max()\n",
    "temp_min = data1[\"Average temperature (°F)\"].min()\n",
    "temp_range = round(temp_max-temp_min,2)\n",
    "temp_range\n",
    "\n",
    "data[\"diff_min_max\"] = data[\"Maximum pressure \"] - data[\"Minimum pressure \"]\n",
    "data1 = data[data[\"diff_min_max\"] == data[\"diff_min_max\"].max()]\n",
    "data1\n",
    "max_p_range_day1 = data1[\"date\"]\n",
    "max_p_range_day = str(list(max_p_range_day1)[0])[:10]\n",
    "max_p_range_day\n",
    "\n",
    "median_b_days1 =  data[data[\"Average barometer (in)\"] == data[\"Average barometer (in)\"].median()]  \n",
    "median_b_days = len(median_b_days1)\n",
    "median_b_days\n",
    "\n",
    "avg_temp_std = np.std(data[\"Average temperature (°F)\"])\n",
    "avg_temp_mean = data[\"Average temperature (°F)\"].mean()\n",
    "data1 = data[(data[\"Average temperature (°F)\"]>= avg_temp_mean-avg_temp_std) & (data[\"Average temperature (°F)\"]<= avg_temp_mean+avg_temp_std)]\n",
    "data1\n",
    "num_days_std = len(data1)   \n",
    "num_days_std\n",
    "\n"
   ]
  },
  {
   "cell_type": "code",
   "execution_count": null,
   "metadata": {},
   "outputs": [],
   "source": []
  },
  {
   "cell_type": "code",
   "execution_count": null,
   "metadata": {},
   "outputs": [],
   "source": []
  },
  {
   "cell_type": "code",
   "execution_count": null,
   "metadata": {},
   "outputs": [],
   "source": []
  },
  {
   "cell_type": "code",
   "execution_count": null,
   "metadata": {},
   "outputs": [],
   "source": []
  },
  {
   "cell_type": "code",
   "execution_count": null,
   "metadata": {},
   "outputs": [],
   "source": []
  }
 ],
 "metadata": {
  "kernelspec": {
   "display_name": "Python 3",
   "language": "python",
   "name": "python3"
  },
  "language_info": {
   "codemirror_mode": {
    "name": "ipython",
    "version": 3
   },
   "file_extension": ".py",
   "mimetype": "text/x-python",
   "name": "python",
   "nbconvert_exporter": "python",
   "pygments_lexer": "ipython3",
   "version": "3.12.2"
  }
 },
 "nbformat": 4,
 "nbformat_minor": 2
}
